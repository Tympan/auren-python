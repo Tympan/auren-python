{
 "cells": [
  {
   "cell_type": "markdown",
   "id": "d29ee55b",
   "metadata": {},
   "source": [
    "### Auren Calibration using the Tympan"
   ]
  },
  {
   "cell_type": "markdown",
   "id": "2646bb5b",
   "metadata": {},
   "source": [
    "Note: If using WSL to run Python in a virtual Linux environment, then you will need to attach the USB serial port to allow access from WSL.  \n",
    "Follow: https://learn.microsoft.com/en-us/windows/wsl/connect-usb\n",
    "- To list: usbipd list\n",
    "- To bind: usbipd bind --busid <port #>\n",
    "- To attach: usbipd attach --wsl --busid <port#>\n",
    "- To detach: usbipd detach --busid <port #>"
   ]
  },
  {
   "cell_type": "code",
   "execution_count": 1,
   "id": "467273d6-56ea-4527-81e6-2b8abcd4298a",
   "metadata": {},
   "outputs": [],
   "source": [
    "%matplotlib widget"
   ]
  },
  {
   "cell_type": "code",
   "execution_count": 2,
   "id": "a4a820d4-afd8-40c3-aa36-4143519404c4",
   "metadata": {},
   "outputs": [],
   "source": [
    "# Import dependencies\n",
    "import matplotlib.pyplot as plt\n",
    "import os"
   ]
  },
  {
   "cell_type": "code",
   "execution_count": 3,
   "id": "7cd9b67c-0a34-4998-990a-e929d92c49b6",
   "metadata": {
    "scrolled": true
   },
   "outputs": [],
   "source": [
    "# Local imports (may take 60sec to load)\n",
    "from owai.core.calibrate import Calibrate\n",
    "import owai.core.data_models as odm"
   ]
  },
  {
   "cell_type": "code",
   "execution_count": 4,
   "id": "26da5530-40ed-4076-9404-3efcccd03af8",
   "metadata": {},
   "outputs": [],
   "source": [
    "cal = Calibrate(out_path='./calibrate')"
   ]
  },
  {
   "cell_type": "code",
   "execution_count": null,
   "id": "87568f67-2684-47ff-8269-0dbe8abd0db4",
   "metadata": {},
   "outputs": [],
   "source": [
    "# Save the calibration tones -- these should be copied onto the Tympan via MTP mode\n",
    "\n",
    "# Create the tones\n",
    "cal.save_cal_tones()"
   ]
  },
  {
   "cell_type": "code",
   "execution_count": 5,
   "id": "6d947e81-5afb-455a-9037-01943d6901d3",
   "metadata": {},
   "outputs": [
    {
     "name": "stdout",
     "output_type": "stream",
     "text": [
      "Opened:  /dev/ttyACM1\n"
     ]
    }
   ],
   "source": [
    "# Connect to the tympan (if running in a virtual environment (WSL), first attach the port with usbipd attach --wsl --busid 1-8)\n",
    "cal.connect()\n",
    "# Turn on \"MTP Mode\" so we can put the wav file on to the SD card\n",
    "# cal.connect_sd() #NOT ON WLS PLEASE\n",
    "# Put the PLAY1.WAV, PLAY2.WAV, and PLAY3.WAV files from the\n",
    "# `calibration_tones` folder into the root folder of the Typman\n",
    "# Once this is done, cycle power on the Tympan\n"
   ]
  },
  {
   "cell_type": "code",
   "execution_count": null,
   "id": "77bf4472",
   "metadata": {},
   "outputs": [],
   "source": [
    "cal.connect()   # Reconnect after turning back on"
   ]
  },
  {
   "cell_type": "code",
   "execution_count": null,
   "id": "6b537647-b662-4ee9-a81c-52a16a5f31a3",
   "metadata": {},
   "outputs": [],
   "source": [
    "# Place the Auren into one end of the shortest calibration tube, and the MicW into the other end\n",
    "cal.collect_mic_calibration_data(odm.tube_12mm)  # Tube 1"
   ]
  },
  {
   "cell_type": "code",
   "execution_count": null,
   "id": "6f2d0a6a-e46c-46ec-8a11-0603e7e6dff8",
   "metadata": {},
   "outputs": [],
   "source": [
    "# Great, now repeat with the other 3 tubes\n",
    "cal.collect_mic_calibration_data(odm.tube_14p5mm)  # Tube 2"
   ]
  },
  {
   "cell_type": "code",
   "execution_count": null,
   "id": "0097af22-6009-4b44-938b-221704627ff9",
   "metadata": {},
   "outputs": [],
   "source": [
    "cal.collect_mic_calibration_data(odm.tube_17p5mm)  # Tube 3"
   ]
  },
  {
   "cell_type": "code",
   "execution_count": null,
   "id": "26ce6ee1-d059-472d-95e3-b4e31658c0d4",
   "metadata": {},
   "outputs": [],
   "source": [
    "cal.collect_mic_calibration_data(odm.tube_20mm)  # Tube 4"
   ]
  },
  {
   "cell_type": "code",
   "execution_count": null,
   "id": "dbac007a-a3c5-4457-8b4f-a03c3e8c76c3",
   "metadata": {},
   "outputs": [],
   "source": [
    "# Speaker calibration data\n",
    "cal.collect_speaker_calibration_data(odm.simulator_1p26cc)"
   ]
  },
  {
   "cell_type": "code",
   "execution_count": null,
   "id": "ca0c0034-7d52-4dc7-8c7a-aca57bfc24fc",
   "metadata": {},
   "outputs": [],
   "source": [
    "# Save the intermin state of the entire calibration object so that we can restore from here if needed\n",
    "with open(\"rawdata.json\", \"w\") as fid:\n",
    "    fid.write(cal.raw_data.model_dump_json())"
   ]
  },
  {
   "cell_type": "code",
   "execution_count": null,
   "id": "e403deb9-e3cb-467a-8eb6-d9034e92ce0d",
   "metadata": {},
   "outputs": [],
   "source": [
    "import json\n",
    "with open(\"rawdata.json\", \"r\") as fid:\n",
    "    raw_data = json.loads(fid.read())\n",
    "    raw_data[\"data\"] = []\n",
    "    raw_data[\"data_ref\"] = []\n",
    "    raw_data = odm.RawCalibrationData(**raw_data)\n",
    "cal.raw_data = raw_data\n"
   ]
  },
  {
   "cell_type": "code",
   "execution_count": null,
   "id": "873aa37d",
   "metadata": {},
   "outputs": [],
   "source": [
    "# As an interim part of the process we need to get the files off the Tympan\n",
    "# 1. Cycle the power on the Tympan, (reattach if using WSL2), then run this cell\n",
    "cal.connect()\n",
    "cal.connect_sd()\n",
    "# 2. Use an explorer window to drag the files `AUDIO*.WAV` into the `calibration_data` folder\n"
   ]
  },
  {
   "cell_type": "code",
   "execution_count": null,
   "id": "abd4a003",
   "metadata": {},
   "outputs": [],
   "source": [
    "# 3. Cycle the power on the Tympan, then reconnnect\n",
    "cal.connect()"
   ]
  },
  {
   "cell_type": "code",
   "execution_count": null,
   "id": "5394a455",
   "metadata": {},
   "outputs": [],
   "source": [
    "cal.raw_data.file_meta_data_ref"
   ]
  },
  {
   "cell_type": "code",
   "execution_count": null,
   "id": "50d98ed5",
   "metadata": {},
   "outputs": [],
   "source": [
    "# Load the wav recordings\n",
    "cal.raw_data.load_wav(auren_files=cal.raw_data.file_meta_data, ref_files=cal.raw_data.file_meta_data_ref) "
   ]
  },
  {
   "cell_type": "code",
   "execution_count": null,
   "id": "a352e9e7",
   "metadata": {},
   "outputs": [],
   "source": [
    "# To make sure everything worked, let's plot the data\n",
    "cal.plot_calibration_data()"
   ]
  },
  {
   "cell_type": "code",
   "execution_count": null,
   "id": "8660c8d7-025f-49ba-9492-acc2981a01c4",
   "metadata": {},
   "outputs": [],
   "source": [
    "# Now we can run the calibration routines\n",
    "cal.calibrate()\n"
   ]
  },
  {
   "cell_type": "code",
   "execution_count": null,
   "id": "d62e5d28",
   "metadata": {},
   "outputs": [],
   "source": [
    "# MISSING METHODS!!!!\n",
    "cal.plot_calibration()\n",
    "cal.plot_calibration_checks()\n",
    "cal.save_calibration()"
   ]
  },
  {
   "cell_type": "code",
   "execution_count": null,
   "id": "6a62c4d8",
   "metadata": {},
   "outputs": [],
   "source": [
    "# Finally collect some validation data to make sure everything works as expected.\n",
    "cal.connect()\n",
    "cal.collect_validation_data(odm.simulator_1p26cc)\n",
    "cal.collect_validation_data(odm.simulator_2cc)"
   ]
  },
  {
   "cell_type": "code",
   "execution_count": null,
   "id": "814f8e8b",
   "metadata": {},
   "outputs": [],
   "source": [
    "# As an interim part of the process we need to get the files off the Tympan\n",
    "# 1. Cycle the power on the Tympan, then run this cell\n",
    "cal.connect()\n",
    "cal.connect_sd()\n",
    "# 2. Use an explorer window to drag the files `AUDIO*.WAV` into the `validation_data` folder\n",
    "# 3. Cycle the power on the Tympan"
   ]
  },
  {
   "cell_type": "code",
   "execution_count": null,
   "id": "e38f8644",
   "metadata": {},
   "outputs": [],
   "source": [
    "# Finally, plot the validation data\n",
    "cal.plot_validation()"
   ]
  },
  {
   "cell_type": "code",
   "execution_count": null,
   "id": "ee2815b0",
   "metadata": {},
   "outputs": [],
   "source": [
    "# Validate MicW calibration \n",
    "# Use \n",
    "cal.calibrateAnalogMic()"
   ]
  }
 ],
 "metadata": {
  "kernelspec": {
   "display_name": ".venv",
   "language": "python",
   "name": "python3"
  },
  "language_info": {
   "codemirror_mode": {
    "name": "ipython",
    "version": 3
   },
   "file_extension": ".py",
   "mimetype": "text/x-python",
   "name": "python",
   "nbconvert_exporter": "python",
   "pygments_lexer": "ipython3",
   "version": "3.10.12"
  }
 },
 "nbformat": 4,
 "nbformat_minor": 5
}
