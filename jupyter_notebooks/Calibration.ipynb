{
 "cells": [
  {
   "cell_type": "code",
   "execution_count": 1,
   "id": "467273d6-56ea-4527-81e6-2b8abcd4298a",
   "metadata": {},
   "outputs": [],
   "source": [
    "%matplotlib widget"
   ]
  },
  {
   "cell_type": "code",
   "execution_count": 2,
   "id": "a4a820d4-afd8-40c3-aa36-4143519404c4",
   "metadata": {},
   "outputs": [],
   "source": [
    "# Import dependencies\n",
    "import matplotlib.pyplot as plt\n",
    "import os"
   ]
  },
  {
   "cell_type": "code",
   "execution_count": 3,
   "id": "7cd9b67c-0a34-4998-990a-e929d92c49b6",
   "metadata": {
    "scrolled": true
   },
   "outputs": [],
   "source": [
    "# Local imports\n",
    "from owai.core.calibrate import Calibrate\n",
    "import owai.core.data_models as odm"
   ]
  },
  {
   "cell_type": "code",
   "execution_count": 4,
   "id": "26da5530-40ed-4076-9404-3efcccd03af8",
   "metadata": {},
   "outputs": [],
   "source": [
    "cal = Calibrate(out_path='./calibrate')"
   ]
  },
  {
   "cell_type": "code",
   "execution_count": 5,
   "id": "87568f67-2684-47ff-8269-0dbe8abd0db4",
   "metadata": {},
   "outputs": [],
   "source": [
    "# Save the calibration tones -- these should be copied onto the Tympan via MTP mode\n",
    "\n",
    "# Create the tones\n",
    "cal.save_cal_tones()"
   ]
  },
  {
   "cell_type": "code",
   "execution_count": 6,
   "id": "6d947e81-5afb-455a-9037-01943d6901d3",
   "metadata": {},
   "outputs": [
    {
     "name": "stdout",
     "output_type": "stream",
     "text": [
      "Opened:  /dev/ttyACM1\n"
     ]
    },
    {
     "name": "stderr",
     "output_type": "stream",
     "text": [
      "Exception in thread Thread-5 (read_rx_thread):\n",
      "Traceback (most recent call last):\n",
      "  File \"/home/mpu/.pyenv/versions/3.11.2/lib/python3.11/threading.py\", line 1038, in _bootstrap_inner\n",
      "    self.run()\n",
      "  File \"/home/mpu/.pyenv/versions/3.11.2/envs/owai/lib/python3.11/site-packages/ipykernel/ipkernel.py\", line 761, in run_closure\n",
      "    _threading_Thread_run(self)\n",
      "  File \"/home/mpu/.pyenv/versions/3.11.2/lib/python3.11/threading.py\", line 975, in run\n",
      "    self._target(*self._args, **self._kwargs)\n",
      "  File \"/mnt/c/Repositories/OpenHearing/open-hearing-hardware/owai/owai/core/tympan_serial.py\", line 236, in read_rx_thread\n",
      "    if self.port_h.in_waiting > 0:\n",
      "       ^^^^^^^^^^^^^^^^^^^^^^\n",
      "  File \"/home/mpu/.pyenv/versions/3.11.2/envs/owai/lib/python3.11/site-packages/serial/serialposix.py\", line 549, in in_waiting\n",
      "    s = fcntl.ioctl(self.fd, TIOCINQ, TIOCM_zero_str)\n",
      "        ^^^^^^^^^^^^^^^^^^^^^^^^^^^^^^^^^^^^^^^^^^^^^\n",
      "OSError: [Errno 5] Input/output error\n"
     ]
    }
   ],
   "source": [
    "# Connect to the tympan\n",
    "cal.connect()\n",
    "# Turn on \"MTP Mode\" so we can put the wav file on to the SD card\n",
    "# cal.connect_sd() #NOT ON WLS PLEASE\n",
    "# Put the PLAY1.WAV, PLAY2.WAV, and PLAY3.WAV files from the\n",
    "# `calibration_tones` folder into the root folder of the Typman\n",
    "# Once this is done, cycle power on the Tympan"
   ]
  },
  {
   "cell_type": "code",
   "execution_count": 7,
   "id": "6b537647-b662-4ee9-a81c-52a16a5f31a3",
   "metadata": {},
   "outputs": [
    {
     "name": "stdout",
     "output_type": "stream",
     "text": [
      "Opened:  /dev/ttyACM0\n"
     ]
    }
   ],
   "source": [
    "# Now we will collect the necessary calibration data\n",
    "cal.connect()"
   ]
  },
  {
   "cell_type": "code",
   "execution_count": 7,
   "id": "38bcd207-a596-41b8-a738-f0ff6bfa2428",
   "metadata": {},
   "outputs": [
    {
     "name": "stdout",
     "output_type": "stream",
     "text": [
      "serviceAudioSdStartStop: Starting SD 1 playback...\n",
      "serviceChirpStartStop: Chirp or SD is still playing...\n",
      "serviceChirpStartStop: Chirp or SD is still playing...\n",
      "serviceChirpStartStop: Chirp or SD is still playing...\n",
      "serviceChirpStartStop: Chirp or SD is still playing...\n",
      "\n",
      "serviceChirpStartStop: Chirp or SD is still playing...\n",
      "\n",
      "Received: Switch input to digital PDM mics\n",
      "AudioControlAIC3206: Received Error During goToPage(): Error = 2\n",
      "AudioControlAIC3206: Received Error During writeRegister(): Error = 2\n",
      "AudioControlAIC3206: Received Error During writeRegister(): Error = 2\n",
      "AudioControlAIC3206: Received Error During writeRegister(): Error = 2\n",
      "AudioControlAIC3206: Received Error During writeRegister(): Error = 2\n",
      "AudioControlAIC3206: Received Error During goToPage(): Error = 2\n",
      "AudioControlAIC3206: Received Error During goToPage(): Error = 2\n",
      "AudioControlAIC3206: Received Error During goToPage(): Error = 2\n",
      "AudioControlAIC3206: Received Error During goToPage(): Error = 2\n",
      "AudioControlAIC3206: Received Error During goToPage(): Error = 2\n",
      "AudioControlAIC3206: Received Error During goToPage(): Error = 2\n",
      "SerialManagerBase: sending: STATE=BTN:configPCB:0\n",
      "SerialManagerBase: sending: STATE=BTN:configMIC:0\n",
      "SerialManagerBase: sending: STATE=BTN:configLINE:0\n",
      "SerialManagerBase: sending: STATE=BTN:configPDM:0\n",
      "SerialManagerBase: sending: STATE=BTN:configMicJackPDM:0\n",
      "SerialManagerBase: sending: STATE=BTN:configPDM:1\n",
      "SerialManagerBase: sending: TEXT=BTN:inpGain:0.0\n",
      "serviceChirpStartStop: Chirp or SD is still playing...\n",
      "\n",
      "serviceChirpStartStop: Chirp or SD is still playing...\n",
      "\n",
      "playing tone  durations=[5.0, 5.0] frequencies=[80.0, 1000.0, 21000.0] samplerate=96000 freq_units='Hz' time_units='s' channels=[True, True]\n",
      "Success:  Received: start combination SD Playing and SD recording...\n",
      "AudioSDWriter: Opened AUDIO005.WAV\n",
      "serviceAudioSdStartStop: Starting SD 1 playback...\n",
      "serviceChirpStartStop: Chirp or SD is still playing...\n",
      "serviceChirpStartStop: Chirp or SD is still playing...\n",
      "serviceChirpStartStop: Chirp or SD is still playing...\n",
      "serviceChirpStartStop: Chirp or SD is still playing...\n",
      "serviceChirpStartStop: Chirp or SD is still playing...\n",
      "serviceChirpStartStop: Chirp or SD is still playing...\n",
      "serviceSD: bytes written = 4096, 4096, 4096, dT millis = 37.5, 37.5, 39.1, \n",
      "serviceChirpStartStop: Chirp or SD is still playing...\n",
      "serviceChirpStartStop: Chirp or SD is still playing...\n",
      "serviceSD: bytes written = 4096, 4096, 4096, dT millis = 11.6, 11.6, 39.1, \n",
      "serviceChirpStartStop: Chirp or SD is still playing...\n",
      "serviceChirpStartStop: Chirp or SD is still playing...\n",
      "serviceChirpStartStop: Chirp or SD has finished.\n",
      "Auto-stopping SD in 250 msec\n",
      "Auto-stopping SD recording of AUDIO005.WAV\n",
      "\n",
      "Results saved in  AUDIO005.WAV\n",
      "Received: Switch input to hybrid: Tympan-Mic_Jack and Shield-PDM Mics\n",
      "AudioControlAIC3206: Received Error During goToPage(): Error = 2\n",
      "AudioControlAIC3206: Received Error During goToPage(): Error = 2\n",
      "AudioControlAIC3206: Received Error During goToPage(): Error = 2\n",
      "AudioControlAIC3206: Received Error During goToPage(): Error = 2\n",
      "AudioControlAIC3206: Received Error During writeRegister(): Error = 2\n",
      "AudioControlAIC3206: Received Error During writeRegister(): Error = 2\n",
      "AudioControlAIC3206: Received Error During writeRegister(): Error = 2\n",
      "AudioControlAIC3206: Received Error During writeRegister(): Error = 2\n",
      "AudioControlAIC3206: Received Error During goToPage(): Error = 2\n",
      "AudioControlAIC3206: Received Error During goToPage(): Error = 2\n",
      "AudioControlAIC3206: Received Error During goToPage(): Error = 2\n",
      "SerialManagerBase: sending: STATE=BTN:configPCB:0\n",
      "SerialManagerBase: sending: STATE=BTN:configMIC:0\n",
      "SerialManagerBase: sending: STATE=BTN:configLINE:0\n",
      "SerialManagerBase: sending: STATE=BTN:configPDM:0\n",
      "SerialManagerBase: sending: STATE=BTN:configMicJackPDM:0\n",
      "SerialManagerBase: sending: STATE=BTN:configMicJackPDM:1\n",
      "SerialManagerBase: sending: TEXT=BTN:inpGain:0.0\n",
      "\n",
      "\n",
      "playing tone  durations=[5.0, 5.0] frequencies=[80.0, 1000.0, 21000.0] samplerate=96000 freq_units='Hz' time_units='s' channels=[True, True]\n",
      "Success:  Received: start combination SD Playing and SD recording...\n",
      "AudioSDWriter: Opened AUDIO006.WAV\n",
      "serviceSD: bytes written = 1024, 4096, 4096, dT millis = 16.5, 16.5, 39.1, \n",
      "serviceAudioSdStartStop: Starting SD 1 playback...\n",
      "serviceChirpStartStop: Chirp or SD is still playing...\n",
      "serviceChirpStartStop: Chirp or SD is still playing...\n",
      "serviceChirpStartStop: Chirp or SD is still playing...\n",
      "serviceChirpStartStop: Chirp or SD has finished.\n",
      "Auto-stopping SD in 250 msec\n",
      "Auto-stopping SD recording of AUDIO006.WAV\n",
      "\n",
      "Results saved in  AUDIO006.WAV\n"
     ]
    }
   ],
   "source": [
    "# Place the Auren into one end of the shortest calibration tube, and the MicW into the other end\n",
    "cal.collect_mic_calibration_data(odm.tube_12mm)  # Tube 1"
   ]
  },
  {
   "cell_type": "code",
   "execution_count": 10,
   "id": "6f2d0a6a-e46c-46ec-8a11-0603e7e6dff8",
   "metadata": {},
   "outputs": [
    {
     "name": "stdout",
     "output_type": "stream",
     "text": [
      "\n",
      "Received: Switch input to digital PDM mics\n",
      "SerialManagerBase: sending: STATE=BTN:configPCB:0\n",
      "SerialManagerBase: sending: STATE=BTN:configMIC:0\n",
      "SerialManagerBase: sending: STATE=BTN:configLINE:0\n",
      "SerialManagerBase: sending: STATE=BTN:configPDM:0\n",
      "SerialManagerBase: sending: STATE=BTN:configMicJackPDM:0\n",
      "SerialManagerBase: sending: STATE=BTN:configPDM:1\n",
      "SerialManagerBase: sending: TEXT=BTN:inpGain:0.0\n",
      "\n",
      "\n",
      "playing tone  durations=[5.0, 5.0] frequencies=[80.0, 1000.0, 21000.0] samplerate=96000 freq_units='Hz' time_units='s'\n",
      "Results saved in  AUDIO004.WAV\n",
      "Received: Switch input to hybrid: Tympan-Mic_Jack and Shield-PDM Mics\n",
      "SerialManagerBase: sending: STATE=BTN:configPCB:0\n",
      "SerialManagerBase: sending: STATE=BTN:configMIC:0\n",
      "SerialManagerBase: sending: STATE=BTN:configLINE:0\n",
      "SerialManagerBase: sending: STATE=BTN:configPDM:0\n",
      "SerialManagerBase: sending: STATE=BTN:configMicJackPDM:0\n",
      "SerialManagerBase: sending: STATE=BTN:configMicJackPDM:1\n",
      "SerialManagerBase: sending: TEXT=BTN:inpGain:0.0\n",
      "\n",
      "\n",
      "playing tone  durations=[5.0, 5.0] frequencies=[80.0, 1000.0, 21000.0] samplerate=96000 freq_units='Hz' time_units='s'\n",
      "Results saved in  AUDIO005.WAV\n"
     ]
    }
   ],
   "source": [
    "# Great, now repeat with the other 3 tubes\n",
    "cal.collect_mic_calibration_data(odm.tube_14p5mm)  # Tube 2"
   ]
  },
  {
   "cell_type": "code",
   "execution_count": 11,
   "id": "0097af22-6009-4b44-938b-221704627ff9",
   "metadata": {},
   "outputs": [
    {
     "name": "stdout",
     "output_type": "stream",
     "text": [
      "\n",
      "Received: Switch input to digital PDM mics\n",
      "SerialManagerBase: sending: STATE=BTN:configPCB:0\n",
      "SerialManagerBase: sending: STATE=BTN:configMIC:0\n",
      "SerialManagerBase: sending: STATE=BTN:configLINE:0\n",
      "SerialManagerBase: sending: STATE=BTN:configPDM:0\n",
      "SerialManagerBase: sending: STATE=BTN:configMicJackPDM:0\n",
      "SerialManagerBase: sending: STATE=BTN:configPDM:1\n",
      "SerialManagerBase: sending: TEXT=BTN:inpGain:0.0\n",
      "\n",
      "\n",
      "playing tone  durations=[5.0, 5.0] frequencies=[80.0, 1000.0, 21000.0] samplerate=96000 freq_units='Hz' time_units='s'\n",
      "Results saved in  AUDIO007.WAV\n",
      "Received: Switch input to hybrid: Tympan-Mic_Jack and Shield-PDM Mics\n",
      "SerialManagerBase: sending: STATE=BTN:configPCB:0\n",
      "SerialManagerBase: sending: STATE=BTN:configMIC:0\n",
      "SerialManagerBase: sending: STATE=BTN:configLINE:0\n",
      "SerialManagerBase: sending: STATE=BTN:configPDM:0\n",
      "SerialManagerBase: sending: STATE=BTN:configMicJackPDM:0\n",
      "SerialManagerBase: sending: STATE=BTN:configMicJackPDM:1\n",
      "SerialManagerBase: sending: TEXT=BTN:inpGain:0.0\n",
      "\n",
      "\n",
      "playing tone  durations=[5.0, 5.0] frequencies=[80.0, 1000.0, 21000.0] samplerate=96000 freq_units='Hz' time_units='s'\n",
      "Results saved in  AUDIO008.WAV\n"
     ]
    }
   ],
   "source": [
    "cal.collect_mic_calibration_data(odm.tube_17p5mm)  # Tube 3"
   ]
  },
  {
   "cell_type": "code",
   "execution_count": 12,
   "id": "26ce6ee1-d059-472d-95e3-b4e31658c0d4",
   "metadata": {},
   "outputs": [
    {
     "name": "stdout",
     "output_type": "stream",
     "text": [
      "\n",
      "Received: Switch input to digital PDM mics\n",
      "SerialManagerBase: sending: STATE=BTN:configPCB:0\n",
      "SerialManagerBase: sending: STATE=BTN:configMIC:0\n",
      "SerialManagerBase: sending: STATE=BTN:configLINE:0\n",
      "SerialManagerBase: sending: STATE=BTN:configPDM:0\n",
      "SerialManagerBase: sending: STATE=BTN:configMicJackPDM:0\n",
      "SerialManagerBase: sending: STATE=BTN:configPDM:1\n",
      "SerialManagerBase: sending: TEXT=BTN:inpGain:0.0\n",
      "\n",
      "\n",
      "playing tone  durations=[5.0, 5.0] frequencies=[80.0, 1000.0, 21000.0] samplerate=96000 freq_units='Hz' time_units='s'\n",
      "Results saved in  AUDIO009.WAV\n",
      "Received: Switch input to hybrid: Tympan-Mic_Jack and Shield-PDM Mics\n",
      "SerialManagerBase: sending: STATE=BTN:configPCB:0\n",
      "SerialManagerBase: sending: STATE=BTN:configMIC:0\n",
      "SerialManagerBase: sending: STATE=BTN:configLINE:0\n",
      "SerialManagerBase: sending: STATE=BTN:configPDM:0\n",
      "SerialManagerBase: sending: STATE=BTN:configMicJackPDM:0\n",
      "SerialManagerBase: sending: STATE=BTN:configMicJackPDM:1\n",
      "SerialManagerBase: sending: TEXT=BTN:inpGain:0.0\n",
      "\n",
      "\n",
      "playing tone  durations=[5.0, 5.0] frequencies=[80.0, 1000.0, 21000.0] samplerate=96000 freq_units='Hz' time_units='s'\n",
      "Results saved in  AUDIO011.WAV\n"
     ]
    }
   ],
   "source": [
    "cal.collect_mic_calibration_data(odm.tube_20mm)  # Tube 4"
   ]
  },
  {
   "cell_type": "code",
   "execution_count": 9,
   "id": "dbac007a-a3c5-4457-8b4f-a03c3e8c76c3",
   "metadata": {},
   "outputs": [
    {
     "name": "stdout",
     "output_type": "stream",
     "text": [
      "serviceAudioSdStartStop: Starting SD 1 playback...\n",
      "serviceChirpStartStop: Chirp or SD is still playing...\n",
      "serviceChirpStartStop: Chirp or SD is still playing...\n",
      "serviceChirpStartStop: Chirp or SD is still playing...\n",
      "serviceChirpStartStop: Chirp or SD is still playing...\n",
      "\n",
      "serviceChirpStartStop: Chirp or SD is still playing...\n",
      "\n",
      "Received: Switch input to digital PDM mics\n",
      "SerialManagerBase: sending: STATE=BTN:configPCB:0\n",
      "SerialManagerBase: sending: STATE=BTN:configMIC:0\n",
      "SerialManagerBase: sending: STATE=BTN:configLINE:0\n",
      "SerialManagerBase: sending: STATE=BTN:configPDM:0\n",
      "SerialManagerBase: sending: STATE=BTN:configMicJackPDM:0\n",
      "SerialManagerBase: sending: STATE=BTN:configPDM:1\n",
      "SerialManagerBase: sending: TEXT=BTN:inpGain:0.0\n",
      "serviceChirpStartStop: Chirp or SD is still playing...\n",
      "\n",
      "serviceChirpStartStop: Chirp or SD is still playing...\n",
      "\n",
      "playing tone  durations=[5.0] frequencies=[80.0, 21000.0] samplerate=96000 freq_units='Hz' time_units='s'\n",
      "Results saved in  AUDIO013.WAV\n",
      "\n",
      "playing tone  durations=[5.0] frequencies=[80.0, 21000.0] samplerate=96000 freq_units='Hz' time_units='s'\n",
      "Results saved in  AUDIO014.WAV\n"
     ]
    }
   ],
   "source": [
    "# Speaker calibration data\n",
    "cal.collect_speaker_calibration_data(odm.simulator_1p26cc)"
   ]
  },
  {
   "cell_type": "code",
   "execution_count": 10,
   "id": "ca0c0034-7d52-4dc7-8c7a-aca57bfc24fc",
   "metadata": {},
   "outputs": [],
   "source": [
    "# Save the intermin state of the entire calibration object so that we can restore from here if needed\n",
    "with open(\"rawdata.json\", \"w\") as fid:\n",
    "    fid.write(cal.raw_data.model_dump_json())"
   ]
  },
  {
   "cell_type": "code",
   "execution_count": 8,
   "id": "e403deb9-e3cb-467a-8eb6-d9034e92ce0d",
   "metadata": {},
   "outputs": [],
   "source": [
    "import json\n",
    "with open(\"rawdata.json\", \"r\") as fid:\n",
    "    raw_data = json.loads(fid.read())\n",
    "    raw_data[\"data\"] = []\n",
    "    raw_data[\"data_ref\"] = []\n",
    "    raw_data = odm.RawCalibrationData(**raw_data)\n",
    "cal.raw_data = raw_data"
   ]
  },
  {
   "cell_type": "code",
   "execution_count": null,
   "id": "873aa37d",
   "metadata": {},
   "outputs": [],
   "source": [
    "# As an interim part of the process we need to get the files off the Tympan\n",
    "# 1. Cycle the power on the Tympan, then run this cell\n",
    "cal.connect()\n",
    "cal.connect_sd()\n",
    "# 2. Use an explorer window to drag the files `AUDIO*.WAV` into the `calibration_data` folder\n",
    "# 3. Cycle the power on the Tympan"
   ]
  },
  {
   "cell_type": "code",
   "execution_count": null,
   "id": "a352e9e7",
   "metadata": {},
   "outputs": [],
   "source": [
    "# To make sure everything worked, let's plot the data\n",
    "cal.plot_calibration_data()"
   ]
  },
  {
   "cell_type": "code",
   "execution_count": 8,
   "id": "8660c8d7-025f-49ba-9492-acc2981a01c4",
   "metadata": {},
   "outputs": [],
   "source": [
    "# Now we can run the calibration routines\n",
    "cal.calibrate()\n",
    "cal.plot_calibration()\n",
    "cal.plot_calibration_checks()\n",
    "cal.save_calibration()"
   ]
  },
  {
   "cell_type": "code",
   "execution_count": null,
   "id": "6a62c4d8",
   "metadata": {},
   "outputs": [],
   "source": [
    "# Finally collect some validation data to make sure everything works as expected.\n",
    "cal.connect()\n",
    "cal.collect_validation_data(odm.simulator_1p26cc)\n",
    "cal.collect_validation_data(odm.simulator_2cc)"
   ]
  },
  {
   "cell_type": "code",
   "execution_count": null,
   "id": "814f8e8b",
   "metadata": {},
   "outputs": [],
   "source": [
    "# As an interim part of the process we need to get the files off the Tympan\n",
    "# 1. Cycle the power on the Tympan, then run this cell\n",
    "cal.connect()\n",
    "cal.connect_sd()\n",
    "# 2. Use an explorer window to drag the files `AUDIO*.WAV` into the `validation_data` folder\n",
    "# 3. Cycle the power on the Tympan"
   ]
  },
  {
   "cell_type": "code",
   "execution_count": null,
   "id": "e38f8644",
   "metadata": {},
   "outputs": [],
   "source": [
    "# Finally, plot the validation data\n",
    "cal.plot_validation()"
   ]
  }
 ],
 "metadata": {
  "kernelspec": {
   "display_name": "Python 3 (ipykernel)",
   "language": "python",
   "name": "python3"
  },
  "language_info": {
   "codemirror_mode": {
    "name": "ipython",
    "version": 3
   },
   "file_extension": ".py",
   "mimetype": "text/x-python",
   "name": "python",
   "nbconvert_exporter": "python",
   "pygments_lexer": "ipython3",
   "version": "3.11.2"
  }
 },
 "nbformat": 4,
 "nbformat_minor": 5
}
